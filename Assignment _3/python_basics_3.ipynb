{
  "cells": [
    {
      "cell_type": "markdown",
      "metadata": {
        "id": "IoQa2eN8bWTA"
      },
      "source": [
        "# 1.\n",
        "\n",
        "A particular zoo determines the price of admission based on the age of the guest.\n",
        "\n",
        "Guests 2 years of age and less are admitted without charge. Children between 3 and 12 years of age cost $14.00.\n",
        "\n",
        "Seniors aged 65 years and over cost $18.00.\n",
        "\n",
        "Admission for all other guests is $23.00.\n",
        "\n",
        "Create a program that begins by reading the ages of all of the guests in a group from the user, with one age entered on each line. The user will enter a blank line to indicate that there are no more guests in the group. Then your program should display the admission cost for the group with an appropriate message.\n",
        "\n",
        "The cost should be displayed using two decimal places."
      ]
    },
    {
      "cell_type": "markdown",
      "metadata": {
        "id": "93BM6vNHb6tx"
      },
      "source": [
        "# 2.\n",
        "\n",
        "A particular retailer is having a 60 percent off sale on a variety of discontinued products. \n",
        "\n",
        "The retailer would like to help its customers determine the reduced price of the merchandise by having a printed discount table on the shelf that shows the original prices and the prices after the discount has been applied. \n",
        "\n",
        "Write a program that uses a loop to generate this table, showing the original price, the discount amount, and the new price for purchases of $4.95, $9.95, $14.95, $19.95 and $24.95. \n",
        "\n",
        "Ensure that the discount amounts and the new prices are rounded to 2 decimal places when they are displayed.\n"
      ]
    },
    {
      "cell_type": "markdown",
      "metadata": {
        "id": "twwmmHWsioYl"
      },
      "source": [
        "## 3.\n",
        "\n",
        "lst=[10, 99, 98, 85, 22, 34, 78, 98, 12, 35, 13, 100, 80, 95]\n",
        "\n",
        "Using while loop, and if statement; iterate through the list and if there is a 100, print it with its index number. i.e.: \n",
        "\n",
        "\"There is a 100 at index no: 4\"\n",
        "\n"
      ]
    },
    {
      "cell_type": "markdown",
      "metadata": {
        "id": "PRRHzHgZjBZE"
      },
      "source": [
        "## 4.\n",
        "\n",
        "Write a python program to read three numbers (a,b,c) and check how many numbers between ‘a’ and ‘b’ are divisible by ‘c’"
      ]
    },
    {
      "cell_type": "markdown",
      "metadata": {
        "id": "aj0eqpwgjmLc"
      },
      "source": [
        "## 5.\n",
        "\n",
        "Create a for loop that prompts the user for a name 3 times, then appends each one to names."
      ]
    },
    {
      "cell_type": "markdown",
      "metadata": {
        "id": "owfZVZ6Sksx7"
      },
      "source": [
        "## 6.\n",
        "\n",
        "Use a loop to print out every character in the string \"Python\", except the \"o\""
      ]
    },
    {
      "cell_type": "markdown",
      "metadata": {
        "id": "wGqS7DaYk_1F"
      },
      "source": [
        "## 7. \n",
        "\n",
        "Write a program that computes the average of a collection\n",
        "of values entered by the user. \n",
        "\n",
        "The user will enter 0 as a sentinel value to indicate\n",
        "that no further values will be provided. \n",
        "\n",
        "Your program should display an appropriate\n",
        "error message if the first value entered by the user is 0."
      ]
    },
    {
      "cell_type": "markdown",
      "metadata": {},
      "source": [
        "## 8.\n",
        "\n",
        "What is the difference between a print and return stament?\n"
      ]
    },
    {
      "cell_type": "markdown",
      "metadata": {},
      "source": [
        "## 9.\n",
        "\n",
        "An online retailer provides express shipping for many of its items at a rate of N10000.95\n",
        "for the first item in an order, and N200.95 for each subsequent item in the same order.\n",
        "Write a function that takes the number of items in the order as its only parameter.\n",
        "Return the shipping charge for the order as the function’s result. Include a main\n",
        "program that reads the number of items purchased from the user and displays the\n",
        "shipping charge."
      ]
    },
    {
      "cell_type": "markdown",
      "metadata": {},
      "source": [
        "## 10.\n",
        "\n",
        "Many people do not use capital letters correctly, especially when typing on small\n",
        "devices like smart phones. To help address this situation, you will create a function\n",
        "that takes a string as its only parameter and returns a new copy of the string that has\n",
        "been correctly capitalized. In particular, your function must:\n",
        "\n",
        "• Capitalize the first non-space character in the string,\n",
        "\n",
        "• Capitalize the first non-space character after a period, exclamation mark or question\n",
        "mark, and\n",
        "\n",
        "• Capitalize a lowercase “i” if it is preceded by a space and followed by a space,\n",
        "period, exclamation mark, question mark or apostrophe.\n",
        "\n",
        "Implementing these transformations will correct most capitalization errors. For\n",
        "example, if the function is provided with the string “what time do i have to be there?\n",
        "what’s the address? this time i’ll try to be on time!” then it should return the string\n",
        "“What time do I have to be there? What’s the address? This time I’ll try to be on\n",
        "time!”. \n",
        "\n",
        "Include a main program that reads a string from the user, capitalizes it using\n",
        "your function, and displays the result."
      ]
    },
    {
      "cell_type": "markdown",
      "metadata": {},
      "source": [
        "## 11.\n",
        "\n",
        "Write a function that determines whether or not a password is good. We will define a good password to be a one that is at least 8 characters long and contains at least one uppercase letter, at least one lowercase letter, and at least one number. \n",
        "\n",
        "Your function should return True if the password passed to it as its only parameter is good. Otherwise it should return False. \n",
        "\n",
        "Include a main program that reads a password from the user and reports whether or not it is good. \n",
        "\n",
        "Ensure that your main program only runs when your solution has not been imported into another file."
      ]
    },
    {
      "cell_type": "markdown",
      "metadata": {},
      "source": [
        "## 12.\n",
        "\n",
        "Write a function that determines howmany days there are in a particular month. \n",
        "\n",
        "Your function will take two parameters: The month as an integer between 1 and 12, and\n",
        "the year as a four digit integer. \n",
        "\n",
        "Ensure that your function reports the correct number of days in February for leap years. \n",
        "\n",
        "Include a main program that reads a month and year from the user and displays the number of days in that month."
      ]
    },
    {
      "cell_type": "markdown",
      "metadata": {},
      "source": [
        "## 13.\n",
        "\n",
        "Write a Python program to find index position and value of the maximum and minimum values in a given list of numbers using lambda. \n",
        "\n",
        "[12, 2, 43, 56, 33, 23, 10.11, 67, 89, 66, 100, 11, 45, 66.7, 23, 12, 11, 10.25, 54]"
      ]
    },
    {
      "cell_type": "markdown",
      "metadata": {},
      "source": [
        "## 14.\n",
        "\n",
        "Write a Python program to check whether a specified list is sorted or not, using lambda. Should return True if it is sorted, False otherwise.\n",
        "\n",
        "[3, 5, 2, 6, 7, 9, 4, 2, 0, 45, 2, 2, 7, 5]"
      ]
    },
    {
      "cell_type": "markdown",
      "metadata": {},
      "source": [
        "## 15.\n",
        "\n",
        "Write a python program to generate a lambda function to separate the odd and even number from a list of numbers.\n",
        "\n",
        "my_list = [22, 56, 77, 99, 45, 36, 87, 93, 5, 78, 2, 66]"
      ]
    },
    {
      "cell_type": "markdown",
      "metadata": {},
      "source": [
        "## 16.\n",
        "\n",
        "Write a python program to generate a lambda function to check whether a given string is a number or not. (True or False)\n",
        "\n",
        "strng = \"100\""
      ]
    }
  ],
  "metadata": {
    "colab": {
      "name": "Python Loops Assignment",
      "provenance": []
    },
    "kernelspec": {
      "display_name": "Python 3",
      "name": "python3"
    },
    "language_info": {
      "name": "python",
      "version": "3.10.0"
    }
  },
  "nbformat": 4,
  "nbformat_minor": 0
}
