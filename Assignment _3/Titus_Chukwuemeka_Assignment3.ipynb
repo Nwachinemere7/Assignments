{
 "cells": [
  {
   "cell_type": "markdown",
   "metadata": {
    "id": "IoQa2eN8bWTA"
   },
   "source": [
    "# 1.\n",
    "\n",
    "A particular zoo determines the price of admission based on the age of the guest.\n",
    "\n",
    "Guests 2 years of age and less are admitted without charge. Children between 3 and 12 years of age cost $14.00.\n",
    "\n",
    "Seniors aged 65 years and over cost $18.00.\n",
    "\n",
    "Admission for all other guests is $23.00.\n",
    "\n",
    "Create a program that begins by reading the ages of all of the guests in a group from the user, with one age entered on each line. The user will enter a blank line to indicate that there are no more guests in the group. Then your program should display the admission cost for the group with an appropriate message.\n",
    "\n",
    "The cost should be displayed using two decimal places."
   ]
  },
  {
   "cell_type": "code",
   "execution_count": 14,
   "metadata": {},
   "outputs": [
    {
     "name": "stdout",
     "output_type": "stream",
     "text": [
      "Enter the age of the guest(Enter blank to finish entry): 2\n",
      "Enter the age of the guest(Enter blank to finish entry): 5\n",
      "Enter the age of the guest(Enter blank to finish entry): 67\n",
      "Enter the age of the guest(Enter blank to finish entry): \n",
      "The total amount for the group is $32.00\n"
     ]
    }
   ],
   "source": [
    "#calculating the cost of Zoo entry:\n",
    "\n",
    "line = input(\"Enter the age of the guest(Enter blank to finish entry): \")\n",
    "\n",
    "total = 0\n",
    "while line != \"\":\n",
    "    age = int(line)\n",
    "    \n",
    "    if age <= 2:\n",
    "        total = total + 0\n",
    "    elif age >= 3 and age <= 12:\n",
    "        total = total + 14\n",
    "    elif age >= 13 and age <= 64:\n",
    "        total = total + 23\n",
    "    else:\n",
    "        total = total +18\n",
    "    line = input(\"Enter the age of the guest(Enter blank to finish entry): \")\n",
    "\n",
    "print(\"The total amount for the group is ${:.2f}\".format(total))\n"
   ]
  },
  {
   "cell_type": "code",
   "execution_count": 17,
   "metadata": {},
   "outputs": [
    {
     "name": "stdout",
     "output_type": "stream",
     "text": [
      "Enter the number of persons in the group: 3\n",
      "enter the age of the members of the group: 2\n",
      "enter the age of the members of the group: 5\n",
      "enter the age of the members of the group: 67\n",
      "The total amount for the group is $32.00\n"
     ]
    }
   ],
   "source": [
    "#Calculating the cost of Entry into a Zoo by groups.\n",
    "\n",
    "group_number = int(input(\"Enter the number of persons in the group: \"))\n",
    "\n",
    "total_cost = 0\n",
    "\n",
    "for num in range(group_number):       #iterate through the numbers of persons in the group.\n",
    "    \n",
    "    age_input = int(input(\"enter the age of the members of the group: \"))\n",
    "    \n",
    "    if age_input <= 2:\n",
    "        total_cost += 0\n",
    "    elif age_input >= 3 and age_input <= 12:   #setting conditions for chagres\n",
    "        total_cost += 14\n",
    "    elif age_input >= 13 and age_input <= 64:\n",
    "        total_cost += 23\n",
    "    else:\n",
    "        total_cost +=18\n",
    "        \n",
    "print(\"The total amount for the group is ${:.2f}\".format(total_cost))"
   ]
  },
  {
   "cell_type": "markdown",
   "metadata": {
    "id": "93BM6vNHb6tx"
   },
   "source": [
    "# 2.\n",
    "\n",
    "A particular retailer is having a 60 percent off sale on a variety of discontinued products. \n",
    "\n",
    "The retailer would like to help its customers determine the reduced price of the merchandise by having a printed discount table on the shelf that shows the original prices and the prices after the discount has been applied. \n",
    "\n",
    "Write a program that uses a loop to generate this table, showing the original price, the discount amount, and the new price for purchases of $4.95, $9.95, $14.95, $19.95 and $24.95. \n",
    "\n",
    "Ensure that the discount amounts and the new prices are rounded to 2 decimal places when they are displayed.\n"
   ]
  },
  {
   "cell_type": "code",
   "execution_count": 23,
   "metadata": {},
   "outputs": [
    {
     "name": "stdout",
     "output_type": "stream",
     "text": [
      "item 1: 4.95 2.97 1.98\n",
      "item 2: 9.95 5.97 3.98\n",
      "item 3: 14.95 8.97 5.98\n",
      "item 4: 19.95 11.97 7.98\n",
      "item 5: 24.95 14.97 9.98\n"
     ]
    }
   ],
   "source": [
    "original_price = [4.95, 9.95, 14.95, 19.95, 24.95]\n",
    "discount = 0.6\n",
    "\n",
    "discount_amt = [ ]\n",
    "new_price = [ ]\n",
    "\n",
    "for price in original_price:\n",
    "    discount_val  = price * discount\n",
    "    new_value = price - discount_val\n",
    "    \n",
    "    x = round(discount_val, 2)    #rounding up values to 2 decimal places\n",
    "    y = round(new_value, 2)\n",
    "    \n",
    "    discount_amt.append(x)    #appending the values into the empty list\n",
    "    new_price.append(y)\n",
    "    \n",
    "items = [\"item 1:\", \"item 2:\", \"item 3:\", \"item 4:\", \"item 5:\"]\n",
    "data = [items, original_price, discount_amt, new_price]\n",
    "\n",
    "new_data= [list(row) for row in zip(*data)]   #list comprehension for transposing tableData\n",
    "\n",
    "\n",
    "for row in new_data:\n",
    "    print(*row)   #printing in table format\n",
    "#print(data)\n",
    "\n"
   ]
  },
  {
   "cell_type": "markdown",
   "metadata": {
    "id": "twwmmHWsioYl"
   },
   "source": [
    "## 3.\n",
    "\n",
    "lst=[10, 99, 98, 85, 22, 34, 78, 98, 12, 35, 13, 100, 80, 95]\n",
    "\n",
    "Using while loop, and if statement; iterate through the list and if there is a 100, print it with its index number. i.e.: \n",
    "\n",
    "\"There is a 100 at index no: 4\"\n",
    "\n"
   ]
  },
  {
   "cell_type": "code",
   "execution_count": 1,
   "metadata": {},
   "outputs": [
    {
     "name": "stdout",
     "output_type": "stream",
     "text": [
      "There is 100, at index number: 11\n"
     ]
    }
   ],
   "source": [
    "my_list  = [10, 99, 98, 85, 22, 34, 78, 98, 12, 35, 13, 100, 80, 95]\n",
    "num = 100\n",
    "for index, item in enumerate(my_list):\n",
    "    if item == num :\n",
    "        print(\"There is {}, at index number: {}\".format(item, index))"
   ]
  },
  {
   "cell_type": "code",
   "execution_count": 25,
   "metadata": {},
   "outputs": [
    {
     "name": "stdout",
     "output_type": "stream",
     "text": [
      "There is 100 at index number: 11\n"
     ]
    }
   ],
   "source": [
    "lst = [10, 99, 98, 85, 22, 34, 78, 98, 12, 35, 13, 100, 80, 95]\n",
    "\n",
    "i = 1\n",
    "num = 100\n",
    "\n",
    "while i < len(lst):\n",
    "    for x in lst:\n",
    "        if x == num:\n",
    "            position = lst.index(num)\n",
    "            print(\"There is {} at index number: {}\".format(num, position))\n",
    "            \n",
    "        else:\n",
    "            i += 1\n",
    "            #pass\n",
    "    "
   ]
  },
  {
   "cell_type": "markdown",
   "metadata": {
    "id": "PRRHzHgZjBZE"
   },
   "source": [
    "## 4.\n",
    "\n",
    "Write a python program to read three numbers (a,b,c) and check how many numbers between ‘a’ and ‘b’ are divisible by ‘c’"
   ]
  },
  {
   "cell_type": "code",
   "execution_count": 33,
   "metadata": {},
   "outputs": [
    {
     "name": "stdout",
     "output_type": "stream",
     "text": [
      "Enter a lower limit:2\n",
      "Enter b upper limit:12\n",
      "Enter the c number to be divided by:3\n",
      "3\n"
     ]
    }
   ],
   "source": [
    "a =int(input(\"Enter a lower limit:\"))\n",
    "b =int(input(\"Enter b upper limit:\"))\n",
    "c =int(input(\"Enter the c number to be divided by:\"))\n",
    "\n",
    "count = 0\n",
    "\n",
    "for i in range(a, b):\n",
    "    if(i%c==0):\n",
    "        count += 1\n",
    "        \n",
    "print(count)"
   ]
  },
  {
   "cell_type": "markdown",
   "metadata": {
    "id": "aj0eqpwgjmLc"
   },
   "source": [
    "## 5.\n",
    "\n",
    "Create a for loop that prompts the user for a name 3 times, then appends each one to names."
   ]
  },
  {
   "cell_type": "code",
   "execution_count": 50,
   "metadata": {},
   "outputs": [
    {
     "name": "stdout",
     "output_type": "stream",
     "text": [
      "Please enter your name: Emeka\n",
      "Please enter your name: Titus\n",
      "Please enter your name: Ekedum\n",
      "['Emeka', 'Titus', 'Ekedum']\n",
      "Emeka Titus Ekedum\n"
     ]
    }
   ],
   "source": [
    "name_user = (\"First name\", \"Middle name\", \"Surname\")\n",
    "number_names = len(name_user)\n",
    "\n",
    "names = [ ]\n",
    "\n",
    "for name in range(number_names):\n",
    "    input_name = input(\"Please enter your name: \").capitalize()\n",
    "    names.append(input_name)\n",
    "\n",
    "def joinallnames(names):\n",
    "    full_name = \" \"\n",
    "\n",
    "    x = full_name.join(names)\n",
    "    return x\n",
    "\n",
    "print(joinallnames(names))\n"
   ]
  },
  {
   "cell_type": "markdown",
   "metadata": {
    "id": "owfZVZ6Sksx7"
   },
   "source": [
    "## 6.\n",
    "\n",
    "Use a loop to print out every character in the string \"Python\", except the \"o\""
   ]
  },
  {
   "cell_type": "code",
   "execution_count": 52,
   "metadata": {},
   "outputs": [
    {
     "name": "stdout",
     "output_type": "stream",
     "text": [
      "P\n",
      "y\n",
      "t\n",
      "h\n",
      "n\n"
     ]
    }
   ],
   "source": [
    "word = \"Python\"\n",
    "\n",
    "for letter in word:\n",
    "    if letter == \"o\":\n",
    "        pass\n",
    "    else:\n",
    "        print(letter)\n",
    "    "
   ]
  },
  {
   "cell_type": "markdown",
   "metadata": {
    "id": "wGqS7DaYk_1F"
   },
   "source": [
    "## 7. \n",
    "\n",
    "\n",
    "Write a program that computes the average of a collection\n",
    "of values entered by the user. \n",
    "\n",
    "The user will enter 0 as a sentinel value to indicate\n",
    "that no further values will be provided. \n",
    "\n",
    "Your program should display an appropriate\n",
    "error message if the first value entered by the user is 0."
   ]
  },
  {
   "cell_type": "code",
   "execution_count": 3,
   "metadata": {},
   "outputs": [
    {
     "name": "stdout",
     "output_type": "stream",
     "text": [
      "Enter values for calculation? (enter 0 to end) 7\n",
      "Enter values for calculation? (enter 0 to end) 7\n",
      "Enter values for calculation? (enter 0 to end) 7\n",
      "Enter values for calculation? (enter 0 to end) 7\n",
      "Enter values for calculation? (enter 0 to end) 7\n",
      "Enter values for calculation? (enter 0 to end) 7\n",
      "Enter values for calculation? (enter 0 to end) 7\n",
      "Enter values for calculation? (enter 0 to end) 0\n",
      "Average: 7.0\n"
     ]
    }
   ],
   "source": [
    "sum = 0\n",
    "count = 0\n",
    "\n",
    "try:\n",
    "    \n",
    "    numbers = int(input(\"Enter values for calculation? (enter 0 to end) \"))\n",
    "    while numbers != 0:\n",
    "        sum = sum + numbers\n",
    "        count = count + 1\n",
    "        numbers = int(input(\"Enter values for calculation? (enter 0 to end) \"))\n",
    "    average = sum / count\n",
    "    print(\"Average:\", average)\n",
    "\n",
    "except:\n",
    "    print(\"This is a wrong input. Try again\")\n",
    "    "
   ]
  },
  {
   "cell_type": "markdown",
   "metadata": {},
   "source": [
    "## 8.\n",
    "\n",
    "What is the difference between a print and return stament?\n"
   ]
  },
  {
   "cell_type": "markdown",
   "metadata": {},
   "source": [
    "Print displays a string to the user that represents what is happening inside the computer. The computer cannot make use of that printed in display.\n",
    "\n",
    "Return is the method by which a function returns a value. This value is frequently cannot be seen by the user, but it can be used by the computer in other ways."
   ]
  },
  {
   "cell_type": "markdown",
   "metadata": {},
   "source": [
    "## 9.\n",
    "\n",
    "An online retailer provides express shipping for many of its items at a rate of N10000.95\n",
    "for the first item in an order, and N200.95 for each subsequent item in the same order.\n",
    "Write a function that takes the number of items in the order as its only parameter.\n",
    "Return the shipping charge for the order as the function’s result. Include a main\n",
    "program that reads the number of items purchased from the user and displays the\n",
    "shipping charge."
   ]
  },
  {
   "cell_type": "code",
   "execution_count": 19,
   "metadata": {},
   "outputs": [
    {
     "name": "stdout",
     "output_type": "stream",
     "text": [
      "How many item(s) have you purchased? 7\n",
      "The total shipping cost is N11206.65\n"
     ]
    }
   ],
   "source": [
    "def shipping_calculation():\n",
    "\n",
    "    try:\n",
    "        #collecting the value of item bought by the customer.\n",
    "        items_no = int(input(\"How many item(s) have you purchased? \"))\n",
    "        total_cost = 0\n",
    "        if items_no == 1:\n",
    "            total_cost = 10000.95\n",
    "        elif items_no > 1:\n",
    "            total_cost = round((10000.95 + (items_no-1) * 200.95), 1)\n",
    "\n",
    "    except:\n",
    "        print(\"You've entered an invalid number, please enter an integer\")\n",
    "        shipping_calculation()\n",
    "\n",
    "    else:\n",
    "        message = f\"The total shipping cost is N{total_cost}\"\n",
    "        print(message)\n",
    "\n",
    "shipping_calculation()"
   ]
  },
  {
   "cell_type": "markdown",
   "metadata": {},
   "source": [
    "## 10.\n",
    "\n",
    "Many people do not use capital letters correctly, especially when typing on small\n",
    "devices like smart phones. To help address this situation, you will create a function\n",
    "that takes a string as its only parameter and returns a new copy of the string that has\n",
    "been correctly capitalized. In particular, your function must:\n",
    "\n",
    "• Capitalize the first non-space character in the string,\n",
    "\n",
    "• Capitalize the first non-space character after a period, exclamation mark or question\n",
    "mark, and\n",
    "\n",
    "• Capitalize a lowercase “i” if it is preceded by a space and followed by a space,\n",
    "period, exclamation mark, question mark or apostrophe.\n",
    "\n",
    "Implementing these transformations will correct most capitalization errors. For\n",
    "example, if the function is provided with the string “what time do i have to be there?\n",
    "what’s the address? this time i’ll try to be on time!” then it should return the string\n",
    "“What time do I have to be there? What’s the address? This time I’ll try to be on\n",
    "time!”. \n",
    "\n",
    "Include a main program that reads a string from the user, capitalizes it using\n",
    "your function, and displays the result."
   ]
  },
  {
   "cell_type": "markdown",
   "metadata": {},
   "source": [
    "## 11.\n",
    "\n",
    "Write a function that determines whether or not a password is good. We will define a good password to be a one that is at least 8 characters long and contains at least one uppercase letter, at least one lowercase letter, and at least one number. \n",
    "\n",
    "Your function should return True if the password passed to it as its only parameter is good. Otherwise it should return False. \n",
    "\n",
    "Include a main program that reads a password from the user and reports whether or not it is good. \n",
    "\n",
    "Ensure that your main program only runs when your solution has not been imported into another file."
   ]
  },
  {
   "cell_type": "markdown",
   "metadata": {},
   "source": [
    "## 12.\n",
    "\n",
    "Write a function that determines howmany days there are in a particular month. \n",
    "\n",
    "Your function will take two parameters: The month as an integer between 1 and 12, and\n",
    "the year as a four digit integer. \n",
    "\n",
    "Ensure that your function reports the correct number of days in February for leap years. \n",
    "\n",
    "Include a main program that reads a month and year from the user and displays the number of days in that month."
   ]
  },
  {
   "cell_type": "code",
   "execution_count": 3,
   "metadata": {},
   "outputs": [
    {
     "name": "stdout",
     "output_type": "stream",
     "text": [
      "month (1-12): 3\n",
      "year: 2007\n",
      "Number of days is 31\n"
     ]
    }
   ],
   "source": [
    "month = int (input ('month (1-12): '))\n",
    "year = int( input('year: '))\n",
    "\n",
    "if (month !=0 and month <13):\n",
    "    \n",
    "\n",
    "    if((month==2) and ((year%4==0)  or ((year%100==0) and (year%400==0)))) :\n",
    "        print(\"Number of days is 29\")\n",
    "\n",
    "    elif(month==2) :\n",
    "        print(\"Number of days is 28\")\n",
    "\n",
    "    elif(month==1 or month==3 or month==5 or month==7 or month==8 or month==10 or month==12) :\n",
    "        print(\"Number of days is 31\")\n",
    "\n",
    "    else :\n",
    "        print(\"Number of days is 30\")\n",
    "\n",
    "else:\n",
    "    print(\"Try again. Your value month value exceeds the number of months\")\n"
   ]
  },
  {
   "cell_type": "markdown",
   "metadata": {},
   "source": [
    "## 13.\n",
    "\n",
    "Write a Python program to find index position and value of the maximum and minimum values in a given list of numbers using lambda. \n",
    "\n",
    "[12, 2, 43, 56, 33, 23, 10.11, 67, 89, 66, 100, 11, 45, 66.7, 23, 12, 11, 10.25, 54]"
   ]
  },
  {
   "cell_type": "code",
   "execution_count": 4,
   "metadata": {},
   "outputs": [
    {
     "name": "stdout",
     "output_type": "stream",
     "text": [
      "The maximum position and number is: (10, 100)\n",
      "The minimum position and number is: (1, 2)\n"
     ]
    }
   ],
   "source": [
    "list_vals = [12, 2, 43, 56, 33, 23, 10.11, 67, 89, 66, 100, 11, 45, 66.7, 23, 12, 11, 10.25, 54]\n",
    "\n",
    "max_num = max(list_vals)\n",
    "min_num = min(list_vals)\n",
    "\n",
    "\n",
    "maxpos = lambda m: (m.index(max_num), max_num)\n",
    "print(\"The maximum position and number is: {}\".format (maxpos(list_vals)))\n",
    "\n",
    "minpos = lambda l: (l.index(min_num), min_num)\n",
    "print(\"The minimum position and number is: {}\".format (minpos(list_vals)))"
   ]
  },
  {
   "cell_type": "markdown",
   "metadata": {},
   "source": [
    "## 14.\n",
    "\n",
    "Write a Python program to check whether a specified list is sorted or not, using lambda. Should return True if it is sorted, False otherwise.\n",
    "\n",
    "[3, 5, 2, 6, 7, 9, 4, 2, 0, 45, 2, 2, 7, 5]"
   ]
  },
  {
   "cell_type": "code",
   "execution_count": 42,
   "metadata": {},
   "outputs": [
    {
     "name": "stdout",
     "output_type": "stream",
     "text": [
      "False\n"
     ]
    }
   ],
   "source": [
    "listA = [3, 5, 2, 6, 7, 9, 4, 2, 0, 45, 2, 2, 7, 5]\n",
    "listA_sort = listA.sort() # create a sorted version of the list to compare.\n",
    "\n",
    "check = lambda y: True if (listA == listA_sort) else  False #compare both list using lambda function\n",
    "\n",
    "print(check(listA))"
   ]
  },
  {
   "cell_type": "markdown",
   "metadata": {},
   "source": [
    "## 15.\n",
    "\n",
    "Write a python program to generate a lambda function to separate the odd and even number from a list of numbers.\n",
    "\n",
    "my_list = [22, 56, 77, 99, 45, 36, 87, 93, 5, 78, 2, 66]"
   ]
  },
  {
   "cell_type": "code",
   "execution_count": 8,
   "metadata": {},
   "outputs": [
    {
     "name": "stdout",
     "output_type": "stream",
     "text": [
      "\n",
      "Even numbers from the said list:\n",
      "[22, 56, 36, 78, 2, 66]\n",
      "\n",
      "Odd numbers from the said list:\n",
      "[77, 99, 45, 87, 93, 5]\n"
     ]
    }
   ],
   "source": [
    "my_list = [22, 56, 77, 99, 45, 36, 87, 93, 5, 78, 2, 66]\n",
    "\n",
    "print(\"\\nEven numbers from the said list:\")\n",
    "even_nums = list(filter(lambda x: x%2 == 0, my_list))\n",
    "print(even_nums)\n",
    "\n",
    "print(\"\\nOdd numbers from the said list:\")\n",
    "odd_nums = list(filter(lambda x: x%2 != 0, my_list))\n",
    "print(odd_nums)\n"
   ]
  },
  {
   "cell_type": "markdown",
   "metadata": {},
   "source": [
    "## 16.\n",
    "\n",
    "Write a python program to generate a lambda function to check whether a given string is a number or not. (True or False)\n",
    "\n",
    "strng = \"100\""
   ]
  },
  {
   "cell_type": "code",
   "execution_count": 7,
   "metadata": {},
   "outputs": [
    {
     "name": "stdout",
     "output_type": "stream",
     "text": [
      "True\n"
     ]
    }
   ],
   "source": [
    "strng = \"100\"\n",
    "\n",
    "num_check= lambda n: n.replace(' \"\" ',' ',1).isdigit()\n",
    "\n",
    "print(num_check(strng))"
   ]
  }
 ],
 "metadata": {
  "colab": {
   "name": "Python Loops Assignment",
   "provenance": []
  },
  "kernelspec": {
   "display_name": "Python 3 (ipykernel)",
   "language": "python",
   "name": "python3"
  },
  "language_info": {
   "codemirror_mode": {
    "name": "ipython",
    "version": 3
   },
   "file_extension": ".py",
   "mimetype": "text/x-python",
   "name": "python",
   "nbconvert_exporter": "python",
   "pygments_lexer": "ipython3",
   "version": "3.9.7"
  }
 },
 "nbformat": 4,
 "nbformat_minor": 1
}
