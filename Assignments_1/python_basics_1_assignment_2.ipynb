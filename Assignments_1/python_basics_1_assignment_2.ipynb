{
  "cells": [
    {
      "cell_type": "markdown",
      "metadata": {
        "id": "PhpAv-tfkVYY"
      },
      "source": [
        "## 1.\n",
        "What is a variable?\n"
      ]
    },
    {
      "cell_type": "markdown",
      "source": [
        "## 2.\n",
        "Give 5 examples of variables with corresponding values."
      ],
      "metadata": {
        "id": "t1WwkKzeqevQ"
      }
    },
    {
      "cell_type": "markdown",
      "source": [
        "## 3. \n",
        "State the data type for each of the following variables:\n",
        "- b = False\n",
        "- number = \"1000\"\n",
        "- radius = 7.0\n",
        "- diameter = 14\n",
        "- country = 'Nigeria"
      ],
      "metadata": {
        "id": "eqfzWTUFqhfP"
      }
    },
    {
      "cell_type": "markdown",
      "source": [
        "## 4. \n",
        "\n",
        "Fix this string\n",
        "quote = 'You're right, he won't agree to this deal.'"
      ],
      "metadata": {
        "id": "O4ndspmWqkqP"
      }
    },
    {
      "cell_type": "markdown",
      "source": [
        "## 5. \n",
        "\n",
        "What happens when you call a string method like islower() on a float object? For example, 15.55.islower()"
      ],
      "metadata": {
        "id": "9yxHcmcyqnG3"
      }
    },
    {
      "cell_type": "markdown",
      "source": [
        "## 6. \n",
        "\n",
        "Write two lines of code each assigning a value to a variable. \n",
        "\n",
        "Now write a print statement using .format() to print out a sentence containing the values of both of the variables.\n"
      ],
      "metadata": {
        "id": "3ozh3LzOqo9R"
      }
    },
    {
      "cell_type": "markdown",
      "source": [
        "## 7. \n",
        "\n",
        "You’ve been provided below with example data for a user, the time of their visit and the site they accessed. \n",
        "\n",
        "You should use the variables provided and the techniques you’ve learned to print a log message like this: \"Amina accessed the site http://kadatemy.com/courses/pythonfordatascience/class1 at 09:20.\" (with the username, url, and timestamp replaced with values from the appropriate variables). \n",
        "\n",
        "username = \"Faith\"\n",
        "\n",
        "timestamp = \"07:50\"\n",
        "\n",
        "url = \"http://kadatemy.com/courses/pythonfordatascience/class1\"\n",
        "\n"
      ],
      "metadata": {
        "id": "ru8ofUV0qrS_"
      }
    },
    {
      "cell_type": "markdown",
      "metadata": {
        "id": "9GiO28gjkVYe"
      },
      "source": [
        "## 8.\n",
        "\n",
        "Consider this string\n",
        "str1 = \"Python exercises are fun. It is very satisfying to solve problems using this computer language.\"\n",
        "- a- Print the length of the string\n",
        "- b- Show the first and last characters of the string.\n",
        "- c- print the characters \"exercises\" from the string using the right index, do the same for \"language\".\n",
        "- d- By using first, second and last characters of the string, create a new string\n",
        "- e- Which character occurs more often in the string? \"e\" or \"s\" ? Print both counts inside the print function.\n",
        "\n"
      ]
    },
    {
      "cell_type": "markdown",
      "source": [
        "## 9. \n",
        "\n",
        "Consider this string \n",
        "str2 = \"  I'm enjoying this a lot! I could do with more exercises.   \"\n",
        "- a- Return the string without any whitespace at the beginning or the end.\n",
        "- b- what is the result of using the method isnumeric() on this string\n",
        "- c- usind a method, return the last position of where \"i\" is found\n"
      ],
      "metadata": {
        "id": "GUJ3P-iUrXTQ"
      }
    },
    {
      "cell_type": "markdown",
      "source": [
        "## 10. \n",
        "\n",
        "Use an appropriate method that returns True if all characters in this string are digits.\n",
        "x = \"3490003\""
      ],
      "metadata": {
        "id": "r6fCdSxBreWJ"
      }
    },
    {
      "cell_type": "markdown",
      "source": [
        "## 11.\n",
        "\n",
        "sets = {3, 1, 10, 4, 5, 6}\n",
        "\n",
        "Write a code that sorts this set in ascending order. Print the output, explain the output you got and why."
      ],
      "metadata": {
        "id": "ocmrPsullYP7"
      }
    },
    {
      "cell_type": "markdown",
      "source": [
        "## 12.\n",
        "\n",
        "- set1 = {10, 20, 30, 40, 50}\n",
        "- set2 = {30, 40, 50, 60, 70}\n",
        "\n",
        "Write a code prints out a new set with all items from both sets by removing duplicates"
      ],
      "metadata": {
        "id": "JrZHhB2Kl1V9"
      }
    },
    {
      "cell_type": "markdown",
      "source": [
        "## 13.\n",
        "\n",
        "- Create a string that is a long series of words separated by spaces. \n",
        "It can be names, cities, animals, anything. Just make it up yourself.\n",
        "- Turn the string into a list of words using split. \n",
        "- Delete two words from the list, but delete each one using a different kind of Python method. \n",
        "- Sort the list. \n",
        "- Add two new words to the list using two different kinds of Python operation used in adding items to a list. \n",
        "- Turn the list of words back into a single string using join. \n",
        "- Print the string.\n",
        "\n",
        "NB: Feel free to use Google to find out other ways to add and remove items from a list"
      ],
      "metadata": {
        "id": "M9vRsso6l7q0"
      }
    },
    {
      "cell_type": "markdown",
      "source": [
        "## 14.\n",
        "\n",
        "Create a dictionary, then write a code to check whether a given key already exists in the dictionary"
      ],
      "metadata": {
        "id": "yBBkWn4bmXNs"
      }
    },
    {
      "cell_type": "markdown",
      "source": [
        "## 15.\n",
        "\n",
        "details = {\n",
        "     'person1': {'name': 'Oreoluwa', 'salary': 7500, 'age': 22},\n",
        "     'person2': {'name': 'Sandra', 'salary': 8000, 'age': 25},\n",
        "     'person3': {'name': 'Ifunanya', 'salary': 6500, 'age': 28}\n",
        "}\n",
        "\n",
        "Write a code that changes Ifunanya's salary to 9000"
      ],
      "metadata": {
        "id": "_V1mM5mlmYUR"
      }
    },
    {
      "cell_type": "markdown",
      "source": [
        "## 16.\n",
        "list1 = [3, 5, 1, 3, 9, 5, 7] \n",
        "\n",
        "Write a code to sort this list in increasing order."
      ],
      "metadata": {
        "id": "2Pa8qJKFoOqA"
      }
    },
    {
      "cell_type": "markdown",
      "source": [
        "## 17.\n",
        "\n",
        "list2 = [1, 2, 5, 7, 9, 0, 3, 6, 7, 1, 3, 5, 6, 8, ,2, 9, 0, 5, 2, 1, 2, 4, 2]\n",
        "\n",
        "Write a code to count how many times 2 occured in the list"
      ],
      "metadata": {
        "id": "_aiOPFQKoQ63"
      }
    },
    {
      "cell_type": "markdown",
      "source": [
        "## 18.\n",
        "list3 = [\"Ifunanya\", 10.4, 9, (23, \"Titus\", [10, [\"Oreoluwa\", \"Sandra\"], 22]), 100, 85.5, 12.4, \"Promise\", (\"11\", 90)]\n",
        "\n",
        "Using string formatting, write a code that slices out \"Oreoluwa\", \"Titus\", slices out the number 100, 85.5, and 90.\n",
        "\n",
        "Your code should print out: Oreoluwa couldn't score 100%, she got 90%, However, Titus is a close second with 85.5%.\n",
        "\n",
        "NB: Make sure your output contains % sign"
      ],
      "metadata": {
        "id": "hL4OcaZJoU6C"
      }
    },
    {
      "cell_type": "markdown",
      "source": [
        "## 19.\n",
        "\n",
        "list4 = [\"Chima\", \"Ebuka\", \"Rose\", \"Hassan\", \"Bisi\"]\n",
        "\n",
        "Write a code that removes any of these names and replaces it with your name in that particular index"
      ],
      "metadata": {
        "id": "NAWecOKoozDX"
      }
    },
    {
      "cell_type": "markdown",
      "source": [
        "## 20.\n",
        "\n",
        "Write a program that asks the user to enter the width and length of a room. \n",
        "\n",
        "Once these values have been read, your program should compute and display the area of the room. The length and the width will be entered as floating-point numbers. \n",
        "\n",
        "Include units in your prompt and output message; either feet or meters, depending on which unit you are more comfortable working with."
      ],
      "metadata": {
        "id": "Kc5Y4s7Xpit5"
      }
    },
    {
      "cell_type": "markdown",
      "source": [
        "## 21.\n",
        "\n",
        "Delete a list of keys from a dictionary\n",
        "\n",
        "data = {\n",
        "    \"name\": \"Victor\",\n",
        "    \"age\": 27,\n",
        "    \"salary\": 6000,\n",
        "    \"city\": \"London\"\n",
        "}\n",
        "\n",
        "***Keys to remove:*** keys = [\"name\", \"salary\"]"
      ],
      "metadata": {
        "id": "dNUh-vQJsnnX"
      }
    },
    {
      "cell_type": "markdown",
      "source": [
        "## 22.\n",
        "\n",
        "Write a program to rename the key \"city\" to \"location\" in the following dictionary.\n",
        "\n",
        "\n",
        "data = {\n",
        "    \"name\": \"Victor\",\n",
        "    \"age\": 27,\n",
        "    \"salary\": 6000,\n",
        "    \"city\": \"London\"}"
      ],
      "metadata": {
        "id": "f_kvQGHktV3v"
      }
    },
    {
      "cell_type": "markdown",
      "source": [
        "##23. \n",
        "The following is a tuple containing tuples.\n",
        "\n",
        "tuple1 = (('a', 30), ('b', 37), ('c', 21), ('d',2))\n",
        "\n",
        "Sort a tuple of tuples by 2nd item.\n",
        "\n",
        "Expected output is (('d', 2), ('c', 22), ('a', 30), ('b', 37))"
      ],
      "metadata": {
        "id": "-LlQTv_wt17o"
      }
    }
  ],
  "metadata": {
    "kernelspec": {
      "display_name": "Python 3",
      "language": "python",
      "name": "python3"
    },
    "language_info": {
      "codemirror_mode": {
        "name": "ipython",
        "version": 3
      },
      "file_extension": ".py",
      "mimetype": "text/x-python",
      "name": "python",
      "nbconvert_exporter": "python",
      "pygments_lexer": "ipython3",
      "version": "3.8.5"
    },
    "colab": {
      "name": "python basics 1 assignment",
      "provenance": [],
      "collapsed_sections": []
    }
  },
  "nbformat": 4,
  "nbformat_minor": 0
}